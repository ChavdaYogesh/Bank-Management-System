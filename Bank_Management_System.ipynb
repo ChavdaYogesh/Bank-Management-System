{
 "cells": [
  {
   "cell_type": "code",
   "execution_count": 1,
   "id": "23ef46f5-e465-4cf9-b37f-6a4b07fe8a3a",
   "metadata": {},
   "outputs": [
    {
     "name": "stdout",
     "output_type": "stream",
     "text": [
      "\n",
      "===== Bank Management System =====\n",
      "\n",
      "1. Admin\n",
      "2. User\n",
      "3. Create Account\n",
      "4. Exit\n"
     ]
    },
    {
     "name": "stdin",
     "output_type": "stream",
     "text": [
      "Enter choice:  3\n",
      "Enter Your Name:  Yogesh\n",
      "Enter Pan no.:  ASDFG12345\n"
     ]
    },
    {
     "name": "stdout",
     "output_type": "stream",
     "text": [
      "\n",
      "Please Enter Pan number in 'AAAAA9999A' format\n",
      "\n"
     ]
    },
    {
     "name": "stdin",
     "output_type": "stream",
     "text": [
      "Enter Pan no.:  ASDFG1234Q\n",
      " Enter Account Type:\n",
      " 1 for Saving\n",
      " 2 for Current 1\n",
      "Do you want add money(yes/no):  YES\n",
      "Enter amount:  5000\n"
     ]
    },
    {
     "name": "stdout",
     "output_type": "stream",
     "text": [
      "\n",
      "----Account Created Successfully !----\n",
      "Your account number is '336311566007'\n",
      "\n",
      "===== Bank Management System =====\n",
      "\n",
      "1. Admin\n",
      "2. User\n",
      "3. Create Account\n",
      "4. Exit\n"
     ]
    },
    {
     "name": "stdin",
     "output_type": "stream",
     "text": [
      "Enter choice:  2\n",
      "Enter account number:  336311566007\n",
      "Enter password:  YOG1234Q\n"
     ]
    },
    {
     "name": "stdout",
     "output_type": "stream",
     "text": [
      "==============================\n",
      "        USER MENU\n",
      "==============================\n",
      "1. Deposit Money\n",
      "2. Withdraw Money\n",
      "3. Check Balance\n",
      "4. View Account Details\n",
      "5. Change Password\n",
      "6. Log-Out\n"
     ]
    },
    {
     "name": "stdin",
     "output_type": "stream",
     "text": [
      "Enter choice:  1\n",
      "Enter amount to deposit:  1000\n"
     ]
    },
    {
     "name": "stdout",
     "output_type": "stream",
     "text": [
      "\n",
      "1000₹ Deposited Successfully !\n",
      "==============================\n",
      "        USER MENU\n",
      "==============================\n",
      "1. Deposit Money\n",
      "2. Withdraw Money\n",
      "3. Check Balance\n",
      "4. View Account Details\n",
      "5. Change Password\n",
      "6. Log-Out\n"
     ]
    },
    {
     "name": "stdin",
     "output_type": "stream",
     "text": [
      "Enter choice:  2\n",
      "Enter amount to withdraw:  2000\n"
     ]
    },
    {
     "name": "stdout",
     "output_type": "stream",
     "text": [
      "\n",
      "2000₹ Withdrawed Successfully !\n",
      "==============================\n",
      "        USER MENU\n",
      "==============================\n",
      "1. Deposit Money\n",
      "2. Withdraw Money\n",
      "3. Check Balance\n",
      "4. View Account Details\n",
      "5. Change Password\n",
      "6. Log-Out\n"
     ]
    },
    {
     "name": "stdin",
     "output_type": "stream",
     "text": [
      "Enter choice:  3\n"
     ]
    },
    {
     "name": "stdout",
     "output_type": "stream",
     "text": [
      "Your Available Balance is 4000₹\n",
      "==============================\n",
      "        USER MENU\n",
      "==============================\n",
      "1. Deposit Money\n",
      "2. Withdraw Money\n",
      "3. Check Balance\n",
      "4. View Account Details\n",
      "5. Change Password\n",
      "6. Log-Out\n"
     ]
    },
    {
     "name": "stdin",
     "output_type": "stream",
     "text": [
      "Enter choice:  3\n"
     ]
    },
    {
     "name": "stdout",
     "output_type": "stream",
     "text": [
      "Your Available Balance is 4000₹\n",
      "==============================\n",
      "        USER MENU\n",
      "==============================\n",
      "1. Deposit Money\n",
      "2. Withdraw Money\n",
      "3. Check Balance\n",
      "4. View Account Details\n",
      "5. Change Password\n",
      "6. Log-Out\n"
     ]
    },
    {
     "name": "stdin",
     "output_type": "stream",
     "text": [
      "Enter choice:  4\n"
     ]
    },
    {
     "name": "stdout",
     "output_type": "stream",
     "text": [
      "\n",
      "----Your Account Detail----\n",
      "\n",
      "Account Number: 336311566007\n",
      "Name: YOGESH\n",
      "Account type: Saving\n",
      "Balance: 4000\n",
      "\n",
      "----Transaction History----\n",
      "Account created with balance 5000₹\n",
      "Deposited 1000₹\n",
      "Withdrawn 2000₹\n",
      "==============================\n",
      "        USER MENU\n",
      "==============================\n",
      "1. Deposit Money\n",
      "2. Withdraw Money\n",
      "3. Check Balance\n",
      "4. View Account Details\n",
      "5. Change Password\n",
      "6. Log-Out\n"
     ]
    },
    {
     "name": "stdin",
     "output_type": "stream",
     "text": [
      "Enter choice:  5\n",
      "Enter new password (at least 8 characters, alphanumeric):  ASDF123\n"
     ]
    },
    {
     "name": "stdout",
     "output_type": "stream",
     "text": [
      " Password must be at least 8 characters long.\n"
     ]
    },
    {
     "name": "stdin",
     "output_type": "stream",
     "text": [
      "Enter new password (at least 8 characters, alphanumeric):  ASDF1234\n",
      "Confirm new password:  ASDF1234\n"
     ]
    },
    {
     "name": "stdout",
     "output_type": "stream",
     "text": [
      "\n",
      " Password changed successfully!\n",
      "==============================\n",
      "        USER MENU\n",
      "==============================\n",
      "1. Deposit Money\n",
      "2. Withdraw Money\n",
      "3. Check Balance\n",
      "4. View Account Details\n",
      "5. Change Password\n",
      "6. Log-Out\n"
     ]
    },
    {
     "name": "stdin",
     "output_type": "stream",
     "text": [
      "Enter choice:  6\n"
     ]
    },
    {
     "name": "stdout",
     "output_type": "stream",
     "text": [
      "\n",
      "===== Bank Management System =====\n",
      "\n",
      "1. Admin\n",
      "2. User\n",
      "3. Create Account\n",
      "4. Exit\n"
     ]
    },
    {
     "name": "stdin",
     "output_type": "stream",
     "text": [
      "Enter choice:  1\n",
      "Enter username:  mybank\n",
      "Enter password:  mybank@ok\n"
     ]
    },
    {
     "name": "stdout",
     "output_type": "stream",
     "text": [
      "==============================\n",
      "        ADMIN MENU\n",
      "==============================\n",
      "1. See all Accounts\n",
      "2. Give interest to saving accounts\n",
      "3. Unlock Account\n",
      "4. Log-Out\n"
     ]
    },
    {
     "name": "stdin",
     "output_type": "stream",
     "text": [
      "Enter choice:  1\n"
     ]
    },
    {
     "name": "stdout",
     "output_type": "stream",
     "text": [
      "\n",
      "----Account Details----\n",
      "\n",
      "Account Number: 336311566007\n",
      "Name: YOGESH\n",
      "Account type: Saving\n",
      "Balance: 4000\n",
      "\n",
      "----Transaction History----\n",
      "Account created with balance 5000₹\n",
      "Deposited 1000₹\n",
      "Withdrawn 2000₹\n",
      "==============================\n",
      "        ADMIN MENU\n",
      "==============================\n",
      "1. See all Accounts\n",
      "2. Give interest to saving accounts\n",
      "3. Unlock Account\n",
      "4. Log-Out\n"
     ]
    },
    {
     "name": "stdin",
     "output_type": "stream",
     "text": [
      "Enter choice:  2\n",
      "Enter percentage of interest:  2\n"
     ]
    },
    {
     "name": "stdout",
     "output_type": "stream",
     "text": [
      "2% interest applied to all saving accounts\n",
      "==============================\n",
      "        ADMIN MENU\n",
      "==============================\n",
      "1. See all Accounts\n",
      "2. Give interest to saving accounts\n",
      "3. Unlock Account\n",
      "4. Log-Out\n"
     ]
    },
    {
     "name": "stdin",
     "output_type": "stream",
     "text": [
      "Enter choice:  1\n"
     ]
    },
    {
     "name": "stdout",
     "output_type": "stream",
     "text": [
      "\n",
      "----Account Details----\n",
      "\n",
      "Account Number: 336311566007\n",
      "Name: YOGESH\n",
      "Account type: Saving\n",
      "Balance: 4080.0\n",
      "\n",
      "----Transaction History----\n",
      "Account created with balance 5000₹\n",
      "Deposited 1000₹\n",
      "Withdrawn 2000₹\n",
      "Interest 2% added: 80.0₹\n",
      "==============================\n",
      "        ADMIN MENU\n",
      "==============================\n",
      "1. See all Accounts\n",
      "2. Give interest to saving accounts\n",
      "3. Unlock Account\n",
      "4. Log-Out\n"
     ]
    },
    {
     "name": "stdin",
     "output_type": "stream",
     "text": [
      "Enter choice:  4\n"
     ]
    },
    {
     "name": "stdout",
     "output_type": "stream",
     "text": [
      "\n",
      "===== Bank Management System =====\n",
      "\n",
      "1. Admin\n",
      "2. User\n",
      "3. Create Account\n",
      "4. Exit\n"
     ]
    },
    {
     "name": "stdin",
     "output_type": "stream",
     "text": [
      "Enter choice:  2\n",
      "Enter account number:  336311566007\n",
      "Enter password:  aaddas\n"
     ]
    },
    {
     "name": "stdout",
     "output_type": "stream",
     "text": [
      "Enter Correct Account number and password\n",
      "\n",
      "===== Bank Management System =====\n",
      "\n",
      "1. Admin\n",
      "2. User\n",
      "3. Create Account\n",
      "4. Exit\n"
     ]
    },
    {
     "name": "stdin",
     "output_type": "stream",
     "text": [
      "Enter choice:  2\n",
      "Enter account number:  336311566007\n",
      "Enter password:  dv\n"
     ]
    },
    {
     "name": "stdout",
     "output_type": "stream",
     "text": [
      "Enter Correct Account number and password\n",
      "\n",
      "===== Bank Management System =====\n",
      "\n",
      "1. Admin\n",
      "2. User\n",
      "3. Create Account\n",
      "4. Exit\n"
     ]
    },
    {
     "name": "stdin",
     "output_type": "stream",
     "text": [
      "Enter choice:  2\n",
      "Enter account number:  336311566007\n",
      "Enter password:  sd\n"
     ]
    },
    {
     "name": "stdout",
     "output_type": "stream",
     "text": [
      "Enter Correct Account number and password\n",
      "\n",
      "===== Bank Management System =====\n",
      "\n",
      "1. Admin\n",
      "2. User\n",
      "3. Create Account\n",
      "4. Exit\n"
     ]
    },
    {
     "name": "stdin",
     "output_type": "stream",
     "text": [
      "Enter choice:  2\n",
      "Enter account number:  336311566007\n",
      "Enter password:  as\n"
     ]
    },
    {
     "name": "stdout",
     "output_type": "stream",
     "text": [
      "Enter Correct Account number and password\n",
      "\n",
      "===== Bank Management System =====\n",
      "\n",
      "1. Admin\n",
      "2. User\n",
      "3. Create Account\n",
      "4. Exit\n"
     ]
    },
    {
     "name": "stdin",
     "output_type": "stream",
     "text": [
      "Enter choice:  2\n",
      "Enter account number:  336311566007\n",
      "Enter password:  sd\n"
     ]
    },
    {
     "name": "stdout",
     "output_type": "stream",
     "text": [
      "\n",
      " Account locked due to too many incorrect attempts.\n",
      "\n",
      "===== Bank Management System =====\n",
      "\n",
      "1. Admin\n",
      "2. User\n",
      "3. Create Account\n",
      "4. Exit\n"
     ]
    },
    {
     "name": "stdin",
     "output_type": "stream",
     "text": [
      "Enter choice:  2\n",
      "Enter account number:  336311566007as\n",
      "Enter password:  sd\n"
     ]
    },
    {
     "name": "stdout",
     "output_type": "stream",
     "text": [
      "Please create account first\n",
      "\n",
      "===== Bank Management System =====\n",
      "\n",
      "1. Admin\n",
      "2. User\n",
      "3. Create Account\n",
      "4. Exit\n"
     ]
    },
    {
     "name": "stdin",
     "output_type": "stream",
     "text": [
      "Enter choice:  2\n",
      "Enter account number:  336311566007\n",
      "Enter password:  sd\n"
     ]
    },
    {
     "name": "stdout",
     "output_type": "stream",
     "text": [
      "\n",
      " This account is locked due to multiple incorrect password attempts. Contact the bank to unlock.\n",
      "\n",
      "===== Bank Management System =====\n",
      "\n",
      "1. Admin\n",
      "2. User\n",
      "3. Create Account\n",
      "4. Exit\n"
     ]
    },
    {
     "name": "stdin",
     "output_type": "stream",
     "text": [
      "Enter choice:  1\n",
      "Enter username:  mybank\n",
      "Enter password:  mybank@ok\n"
     ]
    },
    {
     "name": "stdout",
     "output_type": "stream",
     "text": [
      "==============================\n",
      "        ADMIN MENU\n",
      "==============================\n",
      "1. See all Accounts\n",
      "2. Give interest to saving accounts\n",
      "3. Unlock Account\n",
      "4. Log-Out\n"
     ]
    },
    {
     "name": "stdin",
     "output_type": "stream",
     "text": [
      "Enter choice:  3\n",
      "Enter account number to unlock:  336311566007\n"
     ]
    },
    {
     "name": "stdout",
     "output_type": "stream",
     "text": [
      "\n",
      " Account unlocked successfully!\n",
      "==============================\n",
      "        ADMIN MENU\n",
      "==============================\n",
      "1. See all Accounts\n",
      "2. Give interest to saving accounts\n",
      "3. Unlock Account\n",
      "4. Log-Out\n"
     ]
    },
    {
     "name": "stdin",
     "output_type": "stream",
     "text": [
      "Enter choice:  4\n"
     ]
    },
    {
     "name": "stdout",
     "output_type": "stream",
     "text": [
      "\n",
      "===== Bank Management System =====\n",
      "\n",
      "1. Admin\n",
      "2. User\n",
      "3. Create Account\n",
      "4. Exit\n"
     ]
    },
    {
     "name": "stdin",
     "output_type": "stream",
     "text": [
      "Enter choice:  2\n",
      "Enter account number:  336311566007\n",
      "Enter password:  ASDF1234\n"
     ]
    },
    {
     "name": "stdout",
     "output_type": "stream",
     "text": [
      "==============================\n",
      "        USER MENU\n",
      "==============================\n",
      "1. Deposit Money\n",
      "2. Withdraw Money\n",
      "3. Check Balance\n",
      "4. View Account Details\n",
      "5. Change Password\n",
      "6. Log-Out\n"
     ]
    },
    {
     "name": "stdin",
     "output_type": "stream",
     "text": [
      "Enter choice:  6\n"
     ]
    },
    {
     "name": "stdout",
     "output_type": "stream",
     "text": [
      "\n",
      "===== Bank Management System =====\n",
      "\n",
      "1. Admin\n",
      "2. User\n",
      "3. Create Account\n",
      "4. Exit\n"
     ]
    },
    {
     "name": "stdin",
     "output_type": "stream",
     "text": [
      "Enter choice:  4\n"
     ]
    }
   ],
   "source": [
    "import random\n",
    "\n",
    "class Bank:\n",
    "    \n",
    "    def __init__(self):\n",
    "        self.Accounts=[]\n",
    "        self.locked_accounts = {}\n",
    "        \n",
    "    def add_Account(self,name,pan,acc_typ,bal):\n",
    "        account={}\n",
    "        account['Name']=name\n",
    "        account['Pan_no']=pan\n",
    "        account['Account_type']=acc_typ\n",
    "        account['Balance']=bal\n",
    "        account['Account_Password']=name[:3]+pan[5:]\n",
    "        account['Failed_Attempts'] = 0\n",
    "        account['Transaction_History']=[]\n",
    "        while True:\n",
    "            acn=''\n",
    "            for i in range(12):\n",
    "                an=random.randint(0,9)\n",
    "                acn+=str(an)\n",
    "            if acn not in [account['Account_number'] for account in self.Accounts]:\n",
    "                break\n",
    "        account['Account_number']=acn\n",
    "        self.Accounts.append(account)\n",
    "        account['Transaction_History'].append(f\"Account created with balance {bal}₹\")\n",
    "        print(\"\\n----Account Created Successfully !----\")\n",
    "        print(f\"Your account number is '{acn}'\")\n",
    "\n",
    "    def verify_acc_pass(self,ac_no,password):\n",
    "        a=True\n",
    "        for account in self.Accounts:\n",
    "            if account['Account_number'] == ac_no:\n",
    "                a=False\n",
    "                if ac_no in self.locked_accounts:\n",
    "                    print(\"\\n This account is locked due to multiple incorrect password attempts. Contact the bank to unlock.\")\n",
    "                    return False, False,a\n",
    "                \n",
    "                if account['Account_Password'] == password:\n",
    "                    account['Failed_Attempts'] = 0\n",
    "                    return True, True,a\n",
    "                \n",
    "                account['Failed_Attempts'] += 1\n",
    "                if account['Failed_Attempts'] >= 5:\n",
    "                    self.locked_accounts[ac_no] = True\n",
    "                    print(\"\\n Account locked due to too many incorrect attempts.\")\n",
    "                    return False, False,a\n",
    "                return True, False,a\n",
    "        return False, False,a\n",
    "        \n",
    "    def unlock_account(self, ac_no):\n",
    "        if ac_no in self.locked_accounts:\n",
    "            del self.locked_accounts[ac_no]\n",
    "            for account in self.Accounts:\n",
    "                if account['Account_number'] == ac_no:\n",
    "                    account['Failed_Attempts'] = 0\n",
    "                    print(\"\\n Account unlocked successfully!\")\n",
    "                    return\n",
    "        print(\"\\n Account not found or not locked.\")\n",
    "        \n",
    "    def deposit_money(self,ac_no,password,amt):\n",
    "        for account in self.Accounts:\n",
    "            if account['Account_number']==ac_no and account['Account_Password']==password :\n",
    "                account['Balance']+=amt\n",
    "                account['Transaction_History'].append(f\"Deposited {amt}₹\")\n",
    "                print(f\"\\n{amt}₹ Deposited Successfully !\")\n",
    "                \n",
    "    def withdraw_money(self,ac_no,password,amt):\n",
    "        for account in self.Accounts:\n",
    "            if account['Account_number']==ac_no and account['Account_Password']==password :\n",
    "                account['Balance']-=amt\n",
    "                account['Transaction_History'].append(f\"Withdrawn {amt}₹\")\n",
    "                print(f\"\\n{amt}₹ Withdrawed Successfully !\")\n",
    "                \n",
    "    def check_balance(self,ac_no,password):\n",
    "        for account in self.Accounts:\n",
    "            if account['Account_number']==ac_no and account['Account_Password']==password :\n",
    "                print(f\"Your Available Balance is {account['Balance']}₹\")\n",
    "                \n",
    "    def account_Details(self,ac_no,password):\n",
    "        for account in self.Accounts:\n",
    "            if account['Account_number']==ac_no and account['Account_Password']==password :\n",
    "                print(\"\\n----Your Account Detail----\\n\")\n",
    "                print(\"Account Number:\",account['Account_number'])\n",
    "                print(\"Name:\",account['Name'])\n",
    "                print(\"Account type:\",account['Account_type'])\n",
    "                print(\"Balance:\",account['Balance'])\n",
    "                print(\"\\n----Transaction History----\")\n",
    "                for transaction in account['Transaction_History']:\n",
    "                    print(transaction)\n",
    "\n",
    "    def change_password(self, ac_no, old_password):\n",
    "        for account in self.Accounts:\n",
    "            if account['Account_number'] == ac_no and account['Account_Password'] == old_password:\n",
    "                while True:\n",
    "                    new_password = input(\"Enter new password (at least 8 characters, alphanumeric): \")\n",
    "                    \n",
    "                    # Password validation\n",
    "                    if len(new_password) < 8:\n",
    "                        print(\" Password must be at least 8 characters long.\")\n",
    "                        continue\n",
    "                    if not any(char.isalpha() for char in new_password) or not any(char.isdigit() for char in new_password):\n",
    "                        print(\" Password must contain both letters and numbers.\")\n",
    "                        continue\n",
    "                    \n",
    "                    confirm_password = input(\"Confirm new password: \")\n",
    "                    \n",
    "                    if new_password == confirm_password:\n",
    "                        account['Account_Password'] = new_password\n",
    "                        print(\"\\n Password changed successfully!\")\n",
    "                        return\n",
    "                    else:\n",
    "                        print(\"\\n Passwords do not match. Try again!\")\n",
    "    \n",
    "        print(\"\\n Invalid account number or password!\")\n",
    "    \n",
    "    def giving_interest(self,interest_per):\n",
    "        for account in self.Accounts:\n",
    "            if account['Account_type']=='Saving' :\n",
    "                interest = (account['Balance'] * interest_per) / 100\n",
    "                account['Balance']+=interest\n",
    "                account['Transaction_History'].append(f\"Interest {interest_per}% added: {interest}₹\")\n",
    "                print(f\"{interest_per}% interest applied to all saving accounts\")\n",
    "                \n",
    "    def check_pan(self,pan):\n",
    "        if len(pan) != 10:\n",
    "            return False\n",
    "        for i in range(5):\n",
    "            if not pan[i].isalpha():\n",
    "                return False\n",
    "        for i in range(5, 9):\n",
    "            if not pan[i].isdigit():\n",
    "                return False\n",
    "        if not pan[9].isalpha():\n",
    "            return False\n",
    "        return True\n",
    "        \n",
    "    def main(self):\n",
    "        while True:\n",
    "            print(\"\\n===== Bank Management System =====\")\n",
    "            print(\"\\n1. Admin\")\n",
    "            print(\"2. User\")\n",
    "            print(\"3. Create Account\")\n",
    "            print(\"4. Exit\")\n",
    "            choice = int(input(\"Enter choice: \"))\n",
    "\n",
    "            if choice==1:\n",
    "                username=input(\"Enter username: \")\n",
    "                password=input(\"Enter password: \")\n",
    "                \n",
    "                if username=='mybank' and password=='mybank@ok':\n",
    "                    while 1:\n",
    "                        print(\"=\"*30)\n",
    "                        print(\"        ADMIN MENU\")\n",
    "                        print(\"=\"*30)\n",
    "                        print(\"1. See all Accounts\")\n",
    "                        print(\"2. Give interest to saving accounts\")\n",
    "                        print(\"3. Unlock Account\")\n",
    "                        print(\"4. Log-Out\")\n",
    "                        admin_choice = int(input(\"Enter choice: \"))\n",
    "                        \n",
    "                        if admin_choice==1:\n",
    "                            for account in self.Accounts:\n",
    "                                print(\"\\n----Account Details----\\n\")\n",
    "                                print(\"Account Number:\",account['Account_number'])\n",
    "                                print(\"Name:\",account['Name'])\n",
    "                                print(\"Account type:\",account['Account_type'])\n",
    "                                print(\"Balance:\",account['Balance'])\n",
    "                                print(\"\\n----Transaction History----\")\n",
    "                                for transaction in account['Transaction_History']:\n",
    "                                    print(transaction)\n",
    "                            \n",
    "                        elif admin_choice==2:\n",
    "                            interest_per=int(input(\"Enter percentage of interest: \"))\n",
    "                            self.giving_interest(interest_per)\n",
    "                            \n",
    "                        elif admin_choice == 3:\n",
    "                            ac_no = input(\"Enter account number to unlock: \")\n",
    "                            self.unlock_account(ac_no)     \n",
    "                            \n",
    "                        elif admin_choice==4:\n",
    "                            break\n",
    "                        \n",
    "                        else:\n",
    "                            print(\"Enter Correct Choice\")\n",
    "                else:   \n",
    "                    print(\"Enter Correct username and password\")\n",
    "                \n",
    "            elif choice==2:\n",
    "                ac_no=input(\"Enter account number: \")\n",
    "                password=input(\"Enter password: \")\n",
    "                bac,bpw,a=self.verify_acc_pass(ac_no,password)\n",
    "                if bac and bpw:\n",
    "                    while 1:\n",
    "                        print(\"=\"*30)\n",
    "                        print(\"        USER MENU\")\n",
    "                        print(\"=\"*30)\n",
    "                        print(\"1. Deposit Money\")\n",
    "                        print(\"2. Withdraw Money\")\n",
    "                        print(\"3. Check Balance\")\n",
    "                        print(\"4. View Account Details\")\n",
    "                        print(\"5. Change Password\")\n",
    "                        print(\"6. Log-Out\")\n",
    "                        user_choice = int(input(\"Enter choice: \"))\n",
    "                        if user_choice==1:\n",
    "                            amount=int(input(\"Enter amount to deposit: \"))\n",
    "                            self.deposit_money(ac_no,password,amount)\n",
    "                            \n",
    "                        elif user_choice==2:\n",
    "                            amount=int(input(\"Enter amount to withdraw: \"))\n",
    "                            self.withdraw_money(ac_no,password,amount)\n",
    "                            \n",
    "                        elif user_choice==3:\n",
    "                            self.check_balance(ac_no,password)\n",
    "                            \n",
    "                        elif user_choice==4:\n",
    "                            self.account_Details(ac_no,password)\n",
    "                            \n",
    "                        elif user_choice == 5:\n",
    "                            self.change_password(ac_no, password)\n",
    "                            \n",
    "                        elif user_choice == 6:\n",
    "                            break\n",
    "                        else:\n",
    "                            print(\"Enter Correct Choice\")\n",
    "                elif bac and not bpw:\n",
    "                    print(\"Enter Correct Account number and password\")\n",
    "                elif a:\n",
    "                    print(\"Please create account first\")\n",
    "                    \n",
    "            elif choice==3:\n",
    "                name=input(\"Enter Your Name: \").upper()\n",
    "                while True:\n",
    "                    pan=input(\"Enter Pan no.: \").upper()\n",
    "                    if self.check_pan(pan):\n",
    "                        break\n",
    "                    else:\n",
    "                        print(\"\\nPlease Enter Pan number in 'AAAAA9999A' format\\n\")\n",
    "                while True:\n",
    "                    c=int(input(\" Enter Account Type:\\n 1 for Saving\\n 2 for Current\"))\n",
    "                    if c==1:\n",
    "                        ac_type=\"Saving\"\n",
    "                        break\n",
    "                    elif c==2:\n",
    "                        ac_type=\"Current\"\n",
    "                        break\n",
    "                    else:\n",
    "                        print('Please Enter correct account type!')\n",
    "                moc=input(\"Do you want add money(yes/no): \").lower()\n",
    "                if moc=='yes':\n",
    "                    amt=int(input(\"Enter amount: \"))\n",
    "                else:\n",
    "                    amt=0\n",
    "                self.add_Account(name,pan,ac_type,amt)\n",
    "                \n",
    "            elif choice==4:\n",
    "                break\n",
    "            else:\n",
    "                print(\"Choose Valid Option!\")\n",
    "b=Bank()\n",
    "b.main()"
   ]
  },
  {
   "cell_type": "code",
   "execution_count": null,
   "id": "fac0401c-280e-44fe-a66c-a97ac0a47728",
   "metadata": {},
   "outputs": [],
   "source": []
  }
 ],
 "metadata": {
  "kernelspec": {
   "display_name": "Python 3 (ipykernel)",
   "language": "python",
   "name": "python3"
  },
  "language_info": {
   "codemirror_mode": {
    "name": "ipython",
    "version": 3
   },
   "file_extension": ".py",
   "mimetype": "text/x-python",
   "name": "python",
   "nbconvert_exporter": "python",
   "pygments_lexer": "ipython3",
   "version": "3.13.1"
  }
 },
 "nbformat": 4,
 "nbformat_minor": 5
}
